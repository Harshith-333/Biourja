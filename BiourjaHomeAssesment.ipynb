{
 "cells": [
  {
   "cell_type": "code",
   "execution_count": 6,
   "metadata": {},
   "outputs": [
    {
     "name": "stderr",
     "output_type": "stream",
     "text": [
      "d:\\anaconda3\\lib\\site-packages\\pulp\\pulp.py:1711: UserWarning: Overwriting previously set objective.\n",
      "  warnings.warn(\"Overwriting previously set objective.\")\n",
      "d:\\anaconda3\\lib\\site-packages\\pulp\\pulp.py:1704: UserWarning: Overwriting previously set objective.\n",
      "  warnings.warn(\"Overwriting previously set objective.\")\n"
     ]
    },
    {
     "name": "stdout",
     "output_type": "stream",
     "text": [
      "Optimal Solution Found\n",
      "Redistributed power saved to redistributed_power.xlsx\n"
     ]
    }
   ],
   "source": [
    "import pulp\n",
    "import pandas as pd\n",
    "\n",
    "# Replace 'your_file.xlsx' with the path to your Excel file\n",
    "data = pd.read_csv('input_data.csv')\n",
    "\n",
    "# Extract wind farm names, forecasts, and capacities from the DataFrame\n",
    "wind_farms = data[\"Plant_Name\"].tolist()\n",
    "forecasts = data[\"Forecast\"].tolist()\n",
    "capacities = data[\"Capacity\"].tolist()\n",
    "\n",
    "# Create a linear programming problem\n",
    "prob = pulp.LpProblem(\"Wind_Redistribution\", pulp.LpMinimize)\n",
    "\n",
    "# Decision variables: Power to be redistributed from each wind farm\n",
    "x = pulp.LpVariable.dicts(\"Power_Redistributed\", wind_farms, lowBound=0)\n",
    "\n",
    "# Create deviation variables\n",
    "deviations = pulp.LpVariable.dicts(\"Deviation\", wind_farms, lowBound=0)\n",
    "\n",
    "# Objective function: Minimize the sum of squared deviations\n",
    "state_forecast = 12000  # Total state forecast\n",
    "for wind_farm in wind_farms:\n",
    "    prob += deviations[wind_farm]  # Define deviation variables\n",
    "    prob += deviations[wind_farm] >= x[wind_farm] - forecasts[wind_farms.index(wind_farm)]\n",
    "    prob += deviations[wind_farm] >= forecasts[wind_farms.index(wind_farm)] - x[wind_farm]\n",
    "\n",
    "# Sum of squared deviations is the objective\n",
    "prob += pulp.lpSum(deviations)\n",
    "\n",
    "# Constraint 1: Redistributed power should not exceed individual wind farm capacity\n",
    "for wind_farm in wind_farms:\n",
    "    prob += x[wind_farm] <= capacities[wind_farms.index(wind_farm)]\n",
    "\n",
    "# Constraint 2: Total redistributed power should match the state-level forecast\n",
    "prob += pulp.lpSum([x[wind_farm] for wind_farm in wind_farms]) == state_forecast\n",
    "\n",
    "# Solve the problem\n",
    "prob.solve()\n",
    "\n",
    "# Check the status of the solution\n",
    "if pulp.LpStatus[prob.status] == \"Optimal\":\n",
    "    print(\"Optimal Solution Found\")\n",
    "    \n",
    "    # Create a DataFrame for the redistributed power values\n",
    "    redistributed_power_data = {\"Plant_Name\": wind_farms, \"Redistributed_Power_MW\": [x[wind_farm].varValue for wind_farm in wind_farms]}\n",
    "    redistributed_power_df = pd.DataFrame(redistributed_power_data)\n",
    "    \n",
    "    # Save the DataFrame to an Excel file\n",
    "    output_file = 'redistributed_power.xlsx'\n",
    "    redistributed_power_df.to_excel(output_file, index=False)\n",
    "    \n",
    "    print(f\"Redistributed power saved to {output_file}\")\n",
    "\n",
    "else:\n",
    "    print(\"No feasible solution found\")"
   ]
  },
  {
   "cell_type": "code",
   "execution_count": null,
   "metadata": {},
   "outputs": [],
   "source": []
  }
 ],
 "metadata": {
  "kernelspec": {
   "display_name": "base",
   "language": "python",
   "name": "python3"
  },
  "language_info": {
   "codemirror_mode": {
    "name": "ipython",
    "version": 3
   },
   "file_extension": ".py",
   "mimetype": "text/x-python",
   "name": "python",
   "nbconvert_exporter": "python",
   "pygments_lexer": "ipython3",
   "version": "3.10.9"
  }
 },
 "nbformat": 4,
 "nbformat_minor": 2
}
